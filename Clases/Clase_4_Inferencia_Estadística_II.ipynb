{
  "nbformat": 4,
  "nbformat_minor": 0,
  "metadata": {
    "colab": {
      "provenance": []
    },
    "kernelspec": {
      "name": "python3",
      "display_name": "Python 3"
    },
    "language_info": {
      "name": "python"
    }
  },
  "cells": [
    {
      "cell_type": "markdown",
      "source": [
        "# Inferencia Estadística II\n"
      ],
      "metadata": {
        "id": "TnnKCFA7gsLP"
      }
    },
    {
      "cell_type": "code",
      "source": [
        "# Requerimientos\n",
        "!pip install seaborn -q # Para visualización y datasets\n",
        "!pip install scipy -q # Para analísis estadísticos\n",
        "!pip install numpy -q # Para cálculos científicos\n",
        "!pip install pandas -q # Para almacenamiento y trabajo con datos\n",
        "!pip install matplotlib -q # Para visualización\n",
        "!pip install statsmodels -q # Para analísis estadísticos\n",
        "!pip install rdatasets -q"
      ],
      "metadata": {
        "colab": {
          "base_uri": "https://localhost:8080/"
        },
        "id": "zOO96ymPhXed",
        "outputId": "63e4f84c-0197-4f43-9cad-1ea77658ede3"
      },
      "execution_count": null,
      "outputs": [
        {
          "output_type": "stream",
          "name": "stdout",
          "text": [
            "\u001b[2K     \u001b[90m━━━━━━━━━━━━━━━━━━━━━━━━━━━━━━━━━━━━━━━━\u001b[0m \u001b[32m44.8/44.8 kB\u001b[0m \u001b[31m2.2 MB/s\u001b[0m eta \u001b[36m0:00:00\u001b[0m\n",
            "\u001b[2K   \u001b[90m━━━━━━━━━━━━━━━━━━━━━━━━━━━━━━━━━━━━━━━━\u001b[0m \u001b[32m50.1/50.1 MB\u001b[0m \u001b[31m14.4 MB/s\u001b[0m eta \u001b[36m0:00:00\u001b[0m\n",
            "\u001b[?25h"
          ]
        }
      ]
    },
    {
      "cell_type": "markdown",
      "source": [
        "## Poder Estadístico\n",
        "\n",
        "Para poder calcular el poder estadístico de una prueba, es necesario calcular el valor-p (p-value) de la preuba realizada. Para esto, los paquetes de análisis estadístico disponibles en python poseen la opción de poder calcularlo. Volviendo al ejemplo de pasado, de los datos de sueño, podemos calcular el poder estadístico de la prueba."
      ],
      "metadata": {
        "id": "jBJtsQQehXFY"
      }
    },
    {
      "cell_type": "code",
      "execution_count": null,
      "metadata": {
        "id": "4OG-Quhngo4P"
      },
      "outputs": [],
      "source": [
        "import rdatasets # utilizamos este paquete para obtener datos desde R\n",
        "dataset = rdatasets.data(\"openintro\",\"student_sleep\")\n",
        "horas_sueno = dataset['hours']"
      ]
    },
    {
      "cell_type": "markdown",
      "source": [
        "Usando una prueba estadística de media, asumiendo normalidad e independencia, también conocido como z-test, podemos evaluar el poder de la prueba al ver la media de la población."
      ],
      "metadata": {
        "id": "1uTTaZTAh_kU"
      }
    },
    {
      "cell_type": "code",
      "source": [
        "from statsmodels.stats.weightstats import ztest\n",
        "promedio_nacional = 7\n",
        "statistic, pvalue = ztest(horas_sueno, value = promedio_nacional,\n",
        "                                   alternative = 'larger')\n",
        "print(f'Estadístico de la prueba: {statistic:.3f}')\n",
        "print(f'Valor-p de la prueba: {pvalue:.3f}')"
      ],
      "metadata": {
        "colab": {
          "base_uri": "https://localhost:8080/"
        },
        "id": "z1yLytl8h-ty",
        "outputId": "c705848f-2166-493f-dcd8-4980a0a32977"
      },
      "execution_count": null,
      "outputs": [
        {
          "output_type": "stream",
          "name": "stdout",
          "text": [
            "Estadístico de la prueba: 2.516\n",
            "Valor-p de la prueba: 0.006\n"
          ]
        }
      ]
    },
    {
      "cell_type": "markdown",
      "source": [
        "Ahora, podemos rechazar la hipótesis nula $H_0$, pero el poder estadístico de dicha conclusión es necesaria poder calcularla. Para esto, es posible calcular el poder estadístico de esta prueba:"
      ],
      "metadata": {
        "id": "-k9laiswlYVa"
      }
    },
    {
      "cell_type": "code",
      "source": [
        "import statsmodels.stats.power as smp\n",
        "\n",
        "power = smp.zt_ind_solve_power(effect_size = 0.8, # tamaño del efecto proveniendte de Cohen's d\n",
        "                       nobs1 = len(horas_sueno), # tamaño de la muestra\n",
        "                       alpha = 0.05, # nivel de significancia\n",
        "                       alternative = 'larger', # hipótesis alternativa\n",
        "                       )\n",
        "\n",
        "print(f'Poder estadístico: {power*100:.2f}%')"
      ],
      "metadata": {
        "colab": {
          "base_uri": "https://localhost:8080/"
        },
        "id": "K-wTKTfGiWhb",
        "outputId": "31e8e6c4-d906-4684-c8f4-7f801ed95550"
      },
      "execution_count": null,
      "outputs": [
        {
          "output_type": "stream",
          "name": "stdout",
          "text": [
            "Poder estadístico: 100.00%\n"
          ]
        }
      ]
    },
    {
      "cell_type": "markdown",
      "source": [
        "De esta forma, el test tiene un gran poder estadístico."
      ],
      "metadata": {
        "id": "RngVhHzymTp7"
      }
    },
    {
      "cell_type": "markdown",
      "source": [
        "## Distribución t\n",
        "\n",
        "La distribución t se utiliza en el caso de no tener suficientes datos (n<30) para obtener la disviación estándar de la población. A su vez, es útil en casos de tener una distribución casi normal.\n",
        "\n",
        "En este caso, en vez de un z-test, se realiza un t-test. Para realizarlo se realiza el mismo procedimiento anterior."
      ],
      "metadata": {
        "id": "FhbUYpaKmol6"
      }
    },
    {
      "cell_type": "code",
      "source": [
        "from scipy.stats import ttest_1samp # el t-test de statsmodels funciona diferente\n",
        "promedio_nacional = 7\n",
        "statistic, pvalue = ttest_1samp(horas_sueno,  promedio_nacional,\n",
        "                                   alternative = 'greater')\n",
        "print(f'Estadístico de la prueba: {statistic:.3f}')\n",
        "print(f'Valor-p de la prueba: {pvalue:.3f}')\n",
        "# y el poder estadistico\n",
        "\n",
        "power = smp.tt_ind_solve_power(\n",
        "    effect_size = 0.8, # tamaño del efecto proveniendte de Cohen's d\n",
        "    nobs1 = len(horas_sueno), # tamaño de la muestra\n",
        "    alpha = 0.05, # nivel de significancia\n",
        ")\n",
        "print(f'Poder estadístico: {power*100:.2f}%')\n"
      ],
      "metadata": {
        "colab": {
          "base_uri": "https://localhost:8080/"
        },
        "id": "OshVtZXlmFTg",
        "outputId": "73db6658-87f9-46c6-d3b5-c5dfe05d1dd4"
      },
      "execution_count": null,
      "outputs": [
        {
          "output_type": "stream",
          "name": "stdout",
          "text": [
            "Estadístico de la prueba: 2.516\n",
            "Valor-p de la prueba: 0.007\n",
            "Poder estadístico: 100.00%\n"
          ]
        }
      ]
    },
    {
      "cell_type": "markdown",
      "source": [
        "## Comparación de Promedios"
      ],
      "metadata": {
        "id": "X-WONNvfvn_i"
      }
    },
    {
      "cell_type": "code",
      "source": [],
      "metadata": {
        "id": "G_kcSIphtK4k"
      },
      "execution_count": null,
      "outputs": []
    }
  ]
}